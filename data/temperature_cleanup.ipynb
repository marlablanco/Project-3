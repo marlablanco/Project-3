{
 "cells": [
  {
   "cell_type": "code",
   "execution_count": 1,
   "id": "35ec50ac",
   "metadata": {},
   "outputs": [],
   "source": [
    "import sqlite3\n",
    "import pandas as pd\n",
    "\n",
    "from pathlib import Path"
   ]
  },
  {
   "cell_type": "code",
   "execution_count": 2,
   "id": "0c1856bc",
   "metadata": {},
   "outputs": [],
   "source": [
    "database_path=\"natural_disasters_db.sqlite\"\n",
    "Path(database_path).touch()"
   ]
  },
  {
   "cell_type": "code",
   "execution_count": 3,
   "id": "cc8420a1",
   "metadata": {},
   "outputs": [],
   "source": [
    "temp_df=pd.read_csv(\"temperaturedata.csv\",dtype={\"Year\":str})"
   ]
  },
  {
   "cell_type": "code",
   "execution_count": 4,
   "id": "d72d4c6d",
   "metadata": {},
   "outputs": [
    {
     "data": {
      "text/plain": [
       "<bound method DataFrame.info of        Year  Anomaly  Unnamed: 2  Unnamed: 3  \\\n",
       "0    198001     0.35         NaN         NaN   \n",
       "1    198002     0.43         NaN         NaN   \n",
       "2    198003     0.32         NaN         NaN   \n",
       "3    198004     0.33         NaN         NaN   \n",
       "4    198005     0.38         NaN         NaN   \n",
       "..      ...      ...         ...         ...   \n",
       "518  202303     1.23         NaN         NaN   \n",
       "519  202304     0.98         NaN         NaN   \n",
       "520  202305     0.96         NaN         NaN   \n",
       "521  202306     1.07         NaN         NaN   \n",
       "522  202307     1.12         NaN         NaN   \n",
       "\n",
       "    Global Land and Ocean Temperature Anomalies  \n",
       "0                        Units: Degrees Celsius  \n",
       "1                        Base Period: 1901-2000  \n",
       "2                                 Missing: -999  \n",
       "3                                           NaN  \n",
       "4                                           NaN  \n",
       "..                                          ...  \n",
       "518                                         NaN  \n",
       "519                                         NaN  \n",
       "520                                         NaN  \n",
       "521                                         NaN  \n",
       "522                                         NaN  \n",
       "\n",
       "[523 rows x 5 columns]>"
      ]
     },
     "execution_count": 4,
     "metadata": {},
     "output_type": "execute_result"
    }
   ],
   "source": [
    "temp_df.info"
   ]
  },
  {
   "cell_type": "code",
   "execution_count": 5,
   "id": "ce382fe7",
   "metadata": {},
   "outputs": [],
   "source": [
    "#split \"YYYYMM\" column into \"year\" and \"month\" columns\n",
    "temp_df['year']=temp_df['Year'].str[:4]\n",
    "temp_df['month']=temp_df['Year'].str[4:]"
   ]
  },
  {
   "cell_type": "code",
   "execution_count": 6,
   "id": "f4908f83",
   "metadata": {},
   "outputs": [],
   "source": [
    "#convert to numeric\n",
    "temp_df['year']=pd.to_numeric(temp_df['year'])\n",
    "temp_df['month']=pd.to_numeric(temp_df['month'])"
   ]
  },
  {
   "cell_type": "code",
   "execution_count": 7,
   "id": "8a3418ec",
   "metadata": {},
   "outputs": [
    {
     "data": {
      "text/html": [
       "<div>\n",
       "<style scoped>\n",
       "    .dataframe tbody tr th:only-of-type {\n",
       "        vertical-align: middle;\n",
       "    }\n",
       "\n",
       "    .dataframe tbody tr th {\n",
       "        vertical-align: top;\n",
       "    }\n",
       "\n",
       "    .dataframe thead th {\n",
       "        text-align: right;\n",
       "    }\n",
       "</style>\n",
       "<table border=\"1\" class=\"dataframe\">\n",
       "  <thead>\n",
       "    <tr style=\"text-align: right;\">\n",
       "      <th></th>\n",
       "      <th>Year</th>\n",
       "      <th>Anomaly</th>\n",
       "      <th>Unnamed: 2</th>\n",
       "      <th>Unnamed: 3</th>\n",
       "      <th>Global Land and Ocean Temperature Anomalies</th>\n",
       "      <th>year</th>\n",
       "      <th>month</th>\n",
       "    </tr>\n",
       "  </thead>\n",
       "  <tbody>\n",
       "    <tr>\n",
       "      <th>0</th>\n",
       "      <td>198001</td>\n",
       "      <td>0.35</td>\n",
       "      <td>NaN</td>\n",
       "      <td>NaN</td>\n",
       "      <td>Units: Degrees Celsius</td>\n",
       "      <td>1980</td>\n",
       "      <td>1</td>\n",
       "    </tr>\n",
       "    <tr>\n",
       "      <th>1</th>\n",
       "      <td>198002</td>\n",
       "      <td>0.43</td>\n",
       "      <td>NaN</td>\n",
       "      <td>NaN</td>\n",
       "      <td>Base Period: 1901-2000</td>\n",
       "      <td>1980</td>\n",
       "      <td>2</td>\n",
       "    </tr>\n",
       "    <tr>\n",
       "      <th>2</th>\n",
       "      <td>198003</td>\n",
       "      <td>0.32</td>\n",
       "      <td>NaN</td>\n",
       "      <td>NaN</td>\n",
       "      <td>Missing: -999</td>\n",
       "      <td>1980</td>\n",
       "      <td>3</td>\n",
       "    </tr>\n",
       "    <tr>\n",
       "      <th>3</th>\n",
       "      <td>198004</td>\n",
       "      <td>0.33</td>\n",
       "      <td>NaN</td>\n",
       "      <td>NaN</td>\n",
       "      <td>NaN</td>\n",
       "      <td>1980</td>\n",
       "      <td>4</td>\n",
       "    </tr>\n",
       "    <tr>\n",
       "      <th>4</th>\n",
       "      <td>198005</td>\n",
       "      <td>0.38</td>\n",
       "      <td>NaN</td>\n",
       "      <td>NaN</td>\n",
       "      <td>NaN</td>\n",
       "      <td>1980</td>\n",
       "      <td>5</td>\n",
       "    </tr>\n",
       "  </tbody>\n",
       "</table>\n",
       "</div>"
      ],
      "text/plain": [
       "     Year  Anomaly  Unnamed: 2  Unnamed: 3  \\\n",
       "0  198001     0.35         NaN         NaN   \n",
       "1  198002     0.43         NaN         NaN   \n",
       "2  198003     0.32         NaN         NaN   \n",
       "3  198004     0.33         NaN         NaN   \n",
       "4  198005     0.38         NaN         NaN   \n",
       "\n",
       "  Global Land and Ocean Temperature Anomalies  year  month  \n",
       "0                      Units: Degrees Celsius  1980      1  \n",
       "1                      Base Period: 1901-2000  1980      2  \n",
       "2                               Missing: -999  1980      3  \n",
       "3                                         NaN  1980      4  \n",
       "4                                         NaN  1980      5  "
      ]
     },
     "execution_count": 7,
     "metadata": {},
     "output_type": "execute_result"
    }
   ],
   "source": [
    "temp_df.head()"
   ]
  },
  {
   "cell_type": "code",
   "execution_count": 8,
   "id": "517d4bfb",
   "metadata": {},
   "outputs": [
    {
     "data": {
      "text/html": [
       "<div>\n",
       "<style scoped>\n",
       "    .dataframe tbody tr th:only-of-type {\n",
       "        vertical-align: middle;\n",
       "    }\n",
       "\n",
       "    .dataframe tbody tr th {\n",
       "        vertical-align: top;\n",
       "    }\n",
       "\n",
       "    .dataframe thead th {\n",
       "        text-align: right;\n",
       "    }\n",
       "</style>\n",
       "<table border=\"1\" class=\"dataframe\">\n",
       "  <thead>\n",
       "    <tr style=\"text-align: right;\">\n",
       "      <th></th>\n",
       "      <th>year</th>\n",
       "      <th>month</th>\n",
       "      <th>Anomaly</th>\n",
       "    </tr>\n",
       "  </thead>\n",
       "  <tbody>\n",
       "    <tr>\n",
       "      <th>0</th>\n",
       "      <td>1980</td>\n",
       "      <td>1</td>\n",
       "      <td>0.35</td>\n",
       "    </tr>\n",
       "    <tr>\n",
       "      <th>1</th>\n",
       "      <td>1980</td>\n",
       "      <td>2</td>\n",
       "      <td>0.43</td>\n",
       "    </tr>\n",
       "    <tr>\n",
       "      <th>2</th>\n",
       "      <td>1980</td>\n",
       "      <td>3</td>\n",
       "      <td>0.32</td>\n",
       "    </tr>\n",
       "    <tr>\n",
       "      <th>3</th>\n",
       "      <td>1980</td>\n",
       "      <td>4</td>\n",
       "      <td>0.33</td>\n",
       "    </tr>\n",
       "    <tr>\n",
       "      <th>4</th>\n",
       "      <td>1980</td>\n",
       "      <td>5</td>\n",
       "      <td>0.38</td>\n",
       "    </tr>\n",
       "    <tr>\n",
       "      <th>...</th>\n",
       "      <td>...</td>\n",
       "      <td>...</td>\n",
       "      <td>...</td>\n",
       "    </tr>\n",
       "    <tr>\n",
       "      <th>518</th>\n",
       "      <td>2023</td>\n",
       "      <td>3</td>\n",
       "      <td>1.23</td>\n",
       "    </tr>\n",
       "    <tr>\n",
       "      <th>519</th>\n",
       "      <td>2023</td>\n",
       "      <td>4</td>\n",
       "      <td>0.98</td>\n",
       "    </tr>\n",
       "    <tr>\n",
       "      <th>520</th>\n",
       "      <td>2023</td>\n",
       "      <td>5</td>\n",
       "      <td>0.96</td>\n",
       "    </tr>\n",
       "    <tr>\n",
       "      <th>521</th>\n",
       "      <td>2023</td>\n",
       "      <td>6</td>\n",
       "      <td>1.07</td>\n",
       "    </tr>\n",
       "    <tr>\n",
       "      <th>522</th>\n",
       "      <td>2023</td>\n",
       "      <td>7</td>\n",
       "      <td>1.12</td>\n",
       "    </tr>\n",
       "  </tbody>\n",
       "</table>\n",
       "<p>523 rows × 3 columns</p>\n",
       "</div>"
      ],
      "text/plain": [
       "     year  month  Anomaly\n",
       "0    1980      1     0.35\n",
       "1    1980      2     0.43\n",
       "2    1980      3     0.32\n",
       "3    1980      4     0.33\n",
       "4    1980      5     0.38\n",
       "..    ...    ...      ...\n",
       "518  2023      3     1.23\n",
       "519  2023      4     0.98\n",
       "520  2023      5     0.96\n",
       "521  2023      6     1.07\n",
       "522  2023      7     1.12\n",
       "\n",
       "[523 rows x 3 columns]"
      ]
     },
     "execution_count": 8,
     "metadata": {},
     "output_type": "execute_result"
    }
   ],
   "source": [
    "selected_columns=['year','month','Anomaly']\n",
    "temp_df[selected_columns]"
   ]
  },
  {
   "cell_type": "code",
   "execution_count": 9,
   "id": "d53ca50b",
   "metadata": {},
   "outputs": [
    {
     "data": {
      "text/html": [
       "<div>\n",
       "<style scoped>\n",
       "    .dataframe tbody tr th:only-of-type {\n",
       "        vertical-align: middle;\n",
       "    }\n",
       "\n",
       "    .dataframe tbody tr th {\n",
       "        vertical-align: top;\n",
       "    }\n",
       "\n",
       "    .dataframe thead th {\n",
       "        text-align: right;\n",
       "    }\n",
       "</style>\n",
       "<table border=\"1\" class=\"dataframe\">\n",
       "  <thead>\n",
       "    <tr style=\"text-align: right;\">\n",
       "      <th></th>\n",
       "      <th>year</th>\n",
       "      <th>month</th>\n",
       "      <th>Anomaly</th>\n",
       "    </tr>\n",
       "  </thead>\n",
       "  <tbody>\n",
       "    <tr>\n",
       "      <th>0</th>\n",
       "      <td>1980</td>\n",
       "      <td>1</td>\n",
       "      <td>0.35</td>\n",
       "    </tr>\n",
       "    <tr>\n",
       "      <th>1</th>\n",
       "      <td>1980</td>\n",
       "      <td>2</td>\n",
       "      <td>0.43</td>\n",
       "    </tr>\n",
       "    <tr>\n",
       "      <th>2</th>\n",
       "      <td>1980</td>\n",
       "      <td>3</td>\n",
       "      <td>0.32</td>\n",
       "    </tr>\n",
       "    <tr>\n",
       "      <th>3</th>\n",
       "      <td>1980</td>\n",
       "      <td>4</td>\n",
       "      <td>0.33</td>\n",
       "    </tr>\n",
       "    <tr>\n",
       "      <th>4</th>\n",
       "      <td>1980</td>\n",
       "      <td>5</td>\n",
       "      <td>0.38</td>\n",
       "    </tr>\n",
       "  </tbody>\n",
       "</table>\n",
       "</div>"
      ],
      "text/plain": [
       "   year  month  Anomaly\n",
       "0  1980      1     0.35\n",
       "1  1980      2     0.43\n",
       "2  1980      3     0.32\n",
       "3  1980      4     0.33\n",
       "4  1980      5     0.38"
      ]
     },
     "execution_count": 9,
     "metadata": {},
     "output_type": "execute_result"
    }
   ],
   "source": [
    "anomaly_df=temp_df[selected_columns]\n",
    "anomaly_df.head()"
   ]
  },
  {
   "cell_type": "code",
   "execution_count": 11,
   "id": "dc47c378",
   "metadata": {},
   "outputs": [
    {
     "name": "stderr",
     "output_type": "stream",
     "text": [
      "/var/folders/vq/0fk27r_d7fvdfvmppyp7ky6r0000gn/T/ipykernel_6704/568398089.py:1: SettingWithCopyWarning: \n",
      "A value is trying to be set on a copy of a slice from a DataFrame.\n",
      "Try using .loc[row_indexer,col_indexer] = value instead\n",
      "\n",
      "See the caveats in the documentation: https://pandas.pydata.org/pandas-docs/stable/user_guide/indexing.html#returning-a-view-versus-a-copy\n",
      "  anomaly_df[\"year\"]=anomaly_df[\"year\"].astype(\"int\")\n"
     ]
    }
   ],
   "source": [
    "anomaly_df[\"year\"]=anomaly_df[\"year\"].astype(\"int\")"
   ]
  },
  {
   "cell_type": "code",
   "execution_count": 12,
   "id": "ae67ba5d",
   "metadata": {},
   "outputs": [],
   "source": [
    "conn=sqlite3.connect(database_path)\n",
    "c=conn.cursor()\n",
    "c.execute('''CREATE TABLE temperature_anomalies(\n",
    "    year INT,\n",
    "    month INT,\n",
    "    Anomaly FLOAT\n",
    "    )''')\n",
    "anomaly_df.to_sql(\"temperature_anomalies\", conn, if_exists='append',index=False)\n",
    "\n",
    "c.close()\n",
    "conn.close()"
   ]
  },
  {
   "cell_type": "code",
   "execution_count": null,
   "id": "2c7cd8fc",
   "metadata": {},
   "outputs": [],
   "source": []
  }
 ],
 "metadata": {
  "kernelspec": {
   "display_name": "Python 3 (ipykernel)",
   "language": "python",
   "name": "python3"
  },
  "language_info": {
   "codemirror_mode": {
    "name": "ipython",
    "version": 3
   },
   "file_extension": ".py",
   "mimetype": "text/x-python",
   "name": "python",
   "nbconvert_exporter": "python",
   "pygments_lexer": "ipython3",
   "version": "3.10.11"
  }
 },
 "nbformat": 4,
 "nbformat_minor": 5
}
